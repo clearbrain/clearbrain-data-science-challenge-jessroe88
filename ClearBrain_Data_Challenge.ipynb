{
 "cells": [
  {
   "cell_type": "markdown",
   "metadata": {},
   "source": [
    "# To Scootfinity and Beyond!\n",
    "\n",
    "## Plan of attack: \n",
    "Step 1 will be to load and explore the data and the features. Diving into model building is always thrilling, but first we should explore the feature space, especially looking for potential sources of bias like systematic missing data, highly correlated variables or highly imbalanced variables and any other red flags. The shape of the distributions can give us a hint for which classification algorithm will best suit our data.\n",
    "\n",
    "[Spoiler alert: right now I'm planning to run a Random Forest given the mixed variable types we have as inputs, and I'm expecting to see some nonlinearities in the feature space... time will tell!]"
   ]
  },
  {
   "cell_type": "markdown",
   "metadata": {},
   "source": [
    "## Step 1. Data Exploration"
   ]
  },
  {
   "cell_type": "code",
   "execution_count": 1,
   "metadata": {},
   "outputs": [],
   "source": [
    "#Libraries\n",
    "import pandas as pd\n",
    "import matplotlib.pyplot as plt\n",
    "import seaborn as sns\n",
    "import numpy as np\n",
    "from sklearn.preprocessing import LabelBinarizer\n",
    "%matplotlib inline"
   ]
  },
  {
   "cell_type": "code",
   "execution_count": 2,
   "metadata": {},
   "outputs": [
    {
     "data": {
      "text/html": [
       "<div>\n",
       "<style scoped>\n",
       "    .dataframe tbody tr th:only-of-type {\n",
       "        vertical-align: middle;\n",
       "    }\n",
       "\n",
       "    .dataframe tbody tr th {\n",
       "        vertical-align: top;\n",
       "    }\n",
       "\n",
       "    .dataframe thead th {\n",
       "        text-align: right;\n",
       "    }\n",
       "</style>\n",
       "<table border=\"1\" class=\"dataframe\">\n",
       "  <thead>\n",
       "    <tr style=\"text-align: right;\">\n",
       "      <th></th>\n",
       "      <th>country</th>\n",
       "      <th>age</th>\n",
       "      <th>new_user</th>\n",
       "      <th>source</th>\n",
       "      <th>total_pages_visited</th>\n",
       "      <th>converted</th>\n",
       "    </tr>\n",
       "  </thead>\n",
       "  <tbody>\n",
       "    <tr>\n",
       "      <th>0</th>\n",
       "      <td>UK</td>\n",
       "      <td>25</td>\n",
       "      <td>1</td>\n",
       "      <td>Ads</td>\n",
       "      <td>1</td>\n",
       "      <td>0</td>\n",
       "    </tr>\n",
       "    <tr>\n",
       "      <th>1</th>\n",
       "      <td>US</td>\n",
       "      <td>23</td>\n",
       "      <td>1</td>\n",
       "      <td>Seo</td>\n",
       "      <td>5</td>\n",
       "      <td>0</td>\n",
       "    </tr>\n",
       "    <tr>\n",
       "      <th>2</th>\n",
       "      <td>US</td>\n",
       "      <td>28</td>\n",
       "      <td>1</td>\n",
       "      <td>Seo</td>\n",
       "      <td>4</td>\n",
       "      <td>0</td>\n",
       "    </tr>\n",
       "    <tr>\n",
       "      <th>3</th>\n",
       "      <td>China</td>\n",
       "      <td>39</td>\n",
       "      <td>1</td>\n",
       "      <td>Seo</td>\n",
       "      <td>5</td>\n",
       "      <td>0</td>\n",
       "    </tr>\n",
       "    <tr>\n",
       "      <th>4</th>\n",
       "      <td>US</td>\n",
       "      <td>30</td>\n",
       "      <td>1</td>\n",
       "      <td>Seo</td>\n",
       "      <td>6</td>\n",
       "      <td>0</td>\n",
       "    </tr>\n",
       "  </tbody>\n",
       "</table>\n",
       "</div>"
      ],
      "text/plain": [
       "  country  age  new_user source  total_pages_visited  converted\n",
       "0      UK   25         1    Ads                    1          0\n",
       "1      US   23         1    Seo                    5          0\n",
       "2      US   28         1    Seo                    4          0\n",
       "3   China   39         1    Seo                    5          0\n",
       "4      US   30         1    Seo                    6          0"
      ]
     },
     "execution_count": 2,
     "metadata": {},
     "output_type": "execute_result"
    }
   ],
   "source": [
    "#Load the data\n",
    "url = 'https://raw.githubusercontent.com/clearbrain/clearbrain-data-science-challenge-jessroe88/master/data/conversion_data.csv'\n",
    "scooter = pd.read_csv(url)\n",
    "scooter.head()"
   ]
  },
  {
   "cell_type": "markdown",
   "metadata": {},
   "source": [
    "Start by exploring the feature space of our predictor variables"
   ]
  },
  {
   "cell_type": "code",
   "execution_count": 3,
   "metadata": {},
   "outputs": [
    {
     "data": {
      "text/plain": [
       "country                316200\n",
       "age                    316200\n",
       "new_user               316200\n",
       "source                 316200\n",
       "total_pages_visited    316200\n",
       "converted              316200\n",
       "dtype: int64"
      ]
     },
     "execution_count": 3,
     "metadata": {},
     "output_type": "execute_result"
    }
   ],
   "source": [
    "scooter.count() #No missing data! Too good to be true!! That must mean the traps are hiding somewhere else..."
   ]
  },
  {
   "cell_type": "code",
   "execution_count": 4,
   "metadata": {},
   "outputs": [
    {
     "data": {
      "text/plain": [
       "<seaborn.axisgrid.PairGrid at 0x1a1e9e5ba8>"
      ]
     },
     "execution_count": 4,
     "metadata": {},
     "output_type": "execute_result"
    },
    {
     "data": {
      "image/png": "[encoded data removed]",
      "text/plain": [
       "<Figure size 778.375x720 with 20 Axes>"
      ]
     },
     "metadata": {},
     "output_type": "display_data"
    }
   ],
   "source": [
    "#First just a quick and dirty wall of plots to get a feel for the data (numerical features only)\n",
    "sns.pairplot(scooter.loc[:,'country':], hue='converted')"
   ]
  },
  {
   "cell_type": "markdown",
   "metadata": {},
   "source": [
    "The plots above show lots of interesting trends (and a few red flags), and overall there should be enough separation between converted and non-converted to train up a snazzy model."
   ]
  },
  {
   "cell_type": "code",
   "execution_count": 5,
   "metadata": {},
   "outputs": [
    {
     "data": {
      "text/plain": [
       "<matplotlib.axes._subplots.AxesSubplot at 0x1a1ccaa320>"
      ]
     },
     "execution_count": 5,
     "metadata": {},
     "output_type": "execute_result"
    },
    {
     "data": {
      "image/png": "[encoded data removed]",
      "text/plain": [
       "<Figure size 432x288 with 1 Axes>"
      ]
     },
     "metadata": {},
     "output_type": "display_data"
    }
   ],
   "source": [
    "age = scooter['age']\n",
    "age.hist()"
   ]
  },
  {
   "cell_type": "code",
   "execution_count": 6,
   "metadata": {},
   "outputs": [
    {
     "name": "stdout",
     "output_type": "stream",
     "text": [
      "Max: 123\n",
      "Min: 17\n",
      "Mean: 30.569857685009488\n",
      "Mode: 0    30\n",
      "dtype: int64\n"
     ]
    }
   ],
   "source": [
    "print('Max:', age.max()) #Someone is very old, but the mean and mode are similar, so little skew.\n",
    "print('Min:', age.min())\n",
    "print('Mean:', age.mean())\n",
    "print('Mode:', age.mode()) "
   ]
  },
  {
   "cell_type": "code",
   "execution_count": 7,
   "metadata": {},
   "outputs": [
    {
     "data": {
      "text/plain": [
       "<matplotlib.collections.PathCollection at 0x1a1d8ed550>"
      ]
     },
     "execution_count": 7,
     "metadata": {},
     "output_type": "execute_result"
    },
    {
     "data": {
      "image/png": "[encoded data removed]",
      "text/plain": [
       "<Figure size 432x288 with 1 Axes>"
      ]
     },
     "metadata": {},
     "output_type": "display_data"
    }
   ],
   "source": [
    "plt.scatter(age,scooter['converted']) #I pity the sigmoid function that has to separate these categories...\n",
    "#One obvious problem here is that the two extremely old outliers would skew a model in the wrong direction"
   ]
  },
  {
   "cell_type": "code",
   "execution_count": 11,
   "metadata": {},
   "outputs": [
    {
     "data": {
      "text/html": [
       "<div>\n",
       "<style scoped>\n",
       "    .dataframe tbody tr th:only-of-type {\n",
       "        vertical-align: middle;\n",
       "    }\n",
       "\n",
       "    .dataframe tbody tr th {\n",
       "        vertical-align: top;\n",
       "    }\n",
       "\n",
       "    .dataframe thead th {\n",
       "        text-align: right;\n",
       "    }\n",
       "</style>\n",
       "<table border=\"1\" class=\"dataframe\">\n",
       "  <thead>\n",
       "    <tr style=\"text-align: right;\">\n",
       "      <th></th>\n",
       "      <th>age</th>\n",
       "      <th>new_user</th>\n",
       "      <th>total_pages_visited</th>\n",
       "    </tr>\n",
       "    <tr>\n",
       "      <th>converted</th>\n",
       "      <th></th>\n",
       "      <th></th>\n",
       "      <th></th>\n",
       "    </tr>\n",
       "  </thead>\n",
       "  <tbody>\n",
       "    <tr>\n",
       "      <th>0</th>\n",
       "      <td>30.703961</td>\n",
       "      <td>0.698382</td>\n",
       "      <td>4.550281</td>\n",
       "    </tr>\n",
       "    <tr>\n",
       "      <th>1</th>\n",
       "      <td>26.546765</td>\n",
       "      <td>0.297941</td>\n",
       "      <td>14.553529</td>\n",
       "    </tr>\n",
       "  </tbody>\n",
       "</table>\n",
       "</div>"
      ],
      "text/plain": [
       "                 age  new_user  total_pages_visited\n",
       "converted                                          \n",
       "0          30.703961  0.698382             4.550281\n",
       "1          26.546765  0.297941            14.553529"
      ]
     },
     "execution_count": 11,
     "metadata": {},
     "output_type": "execute_result"
    }
   ],
   "source": [
    "scooter.groupby('converted').mean()"
   ]
  },
  {
   "cell_type": "code",
   "execution_count": 10,
   "metadata": {},
   "outputs": [
    {
     "data": {
      "text/plain": [
       "<matplotlib.axes._subplots.AxesSubplot at 0x1191ef2e8>"
      ]
     },
     "execution_count": 10,
     "metadata": {},
     "output_type": "execute_result"
    },
    {
     "data": {
      "image/png": "[encoded data removed]",
      "text/plain": [
       "<Figure size 432x288 with 1 Axes>"
      ]
     },
     "metadata": {},
     "output_type": "display_data"
    }
   ],
   "source": [
    "page_visits = scooter['total_pages_visited']\n",
    "page_visits.hist() #Highly skewed, as suspected. "
   ]
  },
  {
   "cell_type": "code",
   "execution_count": 16,
   "metadata": {},
   "outputs": [
    {
     "name": "stdout",
     "output_type": "stream",
     "text": [
      "Max: 29\n",
      "Min: 1\n",
      "Mean: 4.872966476913346\n",
      "Mode: 0    2\n",
      "dtype: int64\n"
     ]
    }
   ],
   "source": [
    "print('Max:', page_visits.max()) \n",
    "print('Min:', page_visits.min())\n",
    "print('Mean:', page_visits.mean()) #Very few page visits is common\n",
    "print('Mode:', page_visits.mode()) #Skew confirmed by mean mode comparison"
   ]
  },
  {
   "cell_type": "code",
   "execution_count": 17,
   "metadata": {},
   "outputs": [
    {
     "data": {
      "text/plain": [
       "<matplotlib.collections.PathCollection at 0x1a1a8bc278>"
      ]
     },
     "execution_count": 17,
     "metadata": {},
     "output_type": "execute_result"
    },
    {
     "data": {
      "image/png": "[encoded data removed]",
      "text/plain": [
       "<Figure size 432x288 with 1 Axes>"
      ]
     },
     "metadata": {},
     "output_type": "display_data"
    }
   ],
   "source": [
    "plt.scatter(page_visits,scooter['converted'])\n",
    "#Stronger signal here, as we would expect - more page views = higher likelihood of conversion"
   ]
  },
  {
   "cell_type": "code",
   "execution_count": 119,
   "metadata": {},
   "outputs": [
    {
     "data": {
      "text/plain": [
       "<matplotlib.legend.Legend at 0x1a3c99ccf8>"
      ]
     },
     "execution_count": 119,
     "metadata": {},
     "output_type": "execute_result"
    },
    {
     "data": {
      "image/png": "[encoded data removed]",
      "text/plain": [
       "<Figure size 432x288 with 1 Axes>"
      ]
     },
     "metadata": {},
     "output_type": "display_data"
    }
   ],
   "source": [
    "plt.hist([scooter['new_user'],scooter['converted']], stacked=True, label='converted')\n",
    "plt.legend()\n",
    "#Converted status on x-axis - new users convert at a far lower rate than returning users\n",
    "#So far this feature is the strongest looking predictor.\n"
   ]
  },
  {
   "cell_type": "code",
   "execution_count": 122,
   "metadata": {},
   "outputs": [
    {
     "data": {
      "text/html": [
       "<div>\n",
       "<style scoped>\n",
       "    .dataframe tbody tr th:only-of-type {\n",
       "        vertical-align: middle;\n",
       "    }\n",
       "\n",
       "    .dataframe tbody tr th {\n",
       "        vertical-align: top;\n",
       "    }\n",
       "\n",
       "    .dataframe thead th {\n",
       "        text-align: right;\n",
       "    }\n",
       "</style>\n",
       "<table border=\"1\" class=\"dataframe\">\n",
       "  <thead>\n",
       "    <tr style=\"text-align: right;\">\n",
       "      <th></th>\n",
       "      <th>country</th>\n",
       "      <th>age</th>\n",
       "      <th>new_user</th>\n",
       "      <th>source</th>\n",
       "      <th>total_pages_visited</th>\n",
       "    </tr>\n",
       "    <tr>\n",
       "      <th>converted</th>\n",
       "      <th></th>\n",
       "      <th></th>\n",
       "      <th></th>\n",
       "      <th></th>\n",
       "      <th></th>\n",
       "    </tr>\n",
       "  </thead>\n",
       "  <tbody>\n",
       "    <tr>\n",
       "      <th>0</th>\n",
       "      <td>306000</td>\n",
       "      <td>306000</td>\n",
       "      <td>306000</td>\n",
       "      <td>306000</td>\n",
       "      <td>306000</td>\n",
       "    </tr>\n",
       "    <tr>\n",
       "      <th>1</th>\n",
       "      <td>10198</td>\n",
       "      <td>10198</td>\n",
       "      <td>10198</td>\n",
       "      <td>10198</td>\n",
       "      <td>10198</td>\n",
       "    </tr>\n",
       "  </tbody>\n",
       "</table>\n",
       "</div>"
      ],
      "text/plain": [
       "           country     age  new_user  source  total_pages_visited\n",
       "converted                                                        \n",
       "0           306000  306000    306000  306000               306000\n",
       "1            10198   10198     10198   10198                10198"
      ]
     },
     "execution_count": 122,
     "metadata": {},
     "output_type": "execute_result"
    }
   ],
   "source": [
    "scooter.groupby('converted').count()"
   ]
  },
  {
   "cell_type": "code",
   "execution_count": 26,
   "metadata": {},
   "outputs": [
    {
     "data": {
      "text/plain": [
       "<matplotlib.axes._subplots.AxesSubplot at 0x1a2d1aebe0>"
      ]
     },
     "execution_count": 26,
     "metadata": {},
     "output_type": "execute_result"
    },
    {
     "data": {
      "image/png": "[encoded data removed]",
      "text/plain": [
       "<Figure size 432x288 with 1 Axes>"
      ]
     },
     "metadata": {},
     "output_type": "display_data"
    }
   ],
   "source": [
    "#Now the categorical features\n",
    "scooter['country'].value_counts().plot(kind='bar')\n"
   ]
  },
  {
   "cell_type": "code",
   "execution_count": 27,
   "metadata": {},
   "outputs": [
    {
     "data": {
      "text/plain": [
       "<matplotlib.axes._subplots.AxesSubplot at 0x1191e3400>"
      ]
     },
     "execution_count": 27,
     "metadata": {},
     "output_type": "execute_result"
    },
    {
     "data": {
      "image/png": "[encoded data removed]",
      "text/plain": [
       "<Figure size 432x288 with 1 Axes>"
      ]
     },
     "metadata": {},
     "output_type": "display_data"
    }
   ],
   "source": [
    "scooter['source'].value_counts().plot(kind='bar')"
   ]
  },
  {
   "cell_type": "code",
   "execution_count": 77,
   "metadata": {},
   "outputs": [],
   "source": [
    "#Data cleaning - I'm going to remove the two customers who appear to have misreported their age.\n",
    "#Ordinarily I'd look more closely at their data before cutting them, but I'm treating them as unreliable. \n",
    "# My two offenders are 123 and 111. They both converted and they both aren't new users.\n",
    "scooter = scooter[scooter['age']!=111]\n",
    "scooter = scooter[scooter['age']!=123]\n",
    "#Clunky. But removes both offending rows. \n"
   ]
  },
  {
   "cell_type": "markdown",
   "metadata": {},
   "source": [
    "Now let's take a quick peek at our variable of interest to make sure it isn't so skewed that we need to worry about resampling"
   ]
  },
  {
   "cell_type": "code",
   "execution_count": 91,
   "metadata": {},
   "outputs": [
    {
     "data": {
      "text/html": [
       "<div>\n",
       "<style scoped>\n",
       "    .dataframe tbody tr th:only-of-type {\n",
       "        vertical-align: middle;\n",
       "    }\n",
       "\n",
       "    .dataframe tbody tr th {\n",
       "        vertical-align: top;\n",
       "    }\n",
       "\n",
       "    .dataframe thead th {\n",
       "        text-align: right;\n",
       "    }\n",
       "</style>\n",
       "<table border=\"1\" class=\"dataframe\">\n",
       "  <thead>\n",
       "    <tr style=\"text-align: right;\">\n",
       "      <th></th>\n",
       "      <th>country</th>\n",
       "      <th>age</th>\n",
       "      <th>new_user</th>\n",
       "      <th>source</th>\n",
       "      <th>total_pages_visited</th>\n",
       "    </tr>\n",
       "    <tr>\n",
       "      <th>converted</th>\n",
       "      <th></th>\n",
       "      <th></th>\n",
       "      <th></th>\n",
       "      <th></th>\n",
       "      <th></th>\n",
       "    </tr>\n",
       "  </thead>\n",
       "  <tbody>\n",
       "    <tr>\n",
       "      <th>0</th>\n",
       "      <td>306000</td>\n",
       "      <td>306000</td>\n",
       "      <td>306000</td>\n",
       "      <td>306000</td>\n",
       "      <td>306000</td>\n",
       "    </tr>\n",
       "    <tr>\n",
       "      <th>1</th>\n",
       "      <td>10198</td>\n",
       "      <td>10198</td>\n",
       "      <td>10198</td>\n",
       "      <td>10198</td>\n",
       "      <td>10198</td>\n",
       "    </tr>\n",
       "  </tbody>\n",
       "</table>\n",
       "</div>"
      ],
      "text/plain": [
       "           country     age  new_user  source  total_pages_visited\n",
       "converted                                                        \n",
       "0           306000  306000    306000  306000               306000\n",
       "1            10198   10198     10198   10198                10198"
      ]
     },
     "execution_count": 91,
     "metadata": {},
     "output_type": "execute_result"
    }
   ],
   "source": [
    "scooter.groupby('converted').count() #Crap. Will definitely need to resample. "
   ]
  },
  {
   "cell_type": "markdown",
   "metadata": {},
   "source": [
    "## Step 2. Prepare data for modeling.\n",
    "Nothing I saw convinced me that a random forest wouldn't be a logical place to start, and is more robust to the variable types and underlying distributions than a logistic regression. Let's encode like it's one-hot!"
   ]
  },
  {
   "cell_type": "code",
   "execution_count": 79,
   "metadata": {},
   "outputs": [
    {
     "data": {
      "text/html": [
       "<div>\n",
       "<style scoped>\n",
       "    .dataframe tbody tr th:only-of-type {\n",
       "        vertical-align: middle;\n",
       "    }\n",
       "\n",
       "    .dataframe tbody tr th {\n",
       "        vertical-align: top;\n",
       "    }\n",
       "\n",
       "    .dataframe thead th {\n",
       "        text-align: right;\n",
       "    }\n",
       "</style>\n",
       "<table border=\"1\" class=\"dataframe\">\n",
       "  <thead>\n",
       "    <tr style=\"text-align: right;\">\n",
       "      <th></th>\n",
       "      <th>country</th>\n",
       "      <th>age</th>\n",
       "      <th>new_user</th>\n",
       "      <th>source</th>\n",
       "      <th>total_pages_visited</th>\n",
       "      <th>converted</th>\n",
       "      <th>Ads</th>\n",
       "      <th>Direct</th>\n",
       "      <th>Seo</th>\n",
       "      <th>China</th>\n",
       "      <th>Germany</th>\n",
       "      <th>UK</th>\n",
       "      <th>US</th>\n",
       "    </tr>\n",
       "  </thead>\n",
       "  <tbody>\n",
       "    <tr>\n",
       "      <th>0</th>\n",
       "      <td>UK</td>\n",
       "      <td>25</td>\n",
       "      <td>1</td>\n",
       "      <td>Ads</td>\n",
       "      <td>1</td>\n",
       "      <td>0</td>\n",
       "      <td>1</td>\n",
       "      <td>0</td>\n",
       "      <td>0</td>\n",
       "      <td>0</td>\n",
       "      <td>0</td>\n",
       "      <td>1</td>\n",
       "      <td>0</td>\n",
       "    </tr>\n",
       "    <tr>\n",
       "      <th>1</th>\n",
       "      <td>US</td>\n",
       "      <td>23</td>\n",
       "      <td>1</td>\n",
       "      <td>Seo</td>\n",
       "      <td>5</td>\n",
       "      <td>0</td>\n",
       "      <td>0</td>\n",
       "      <td>0</td>\n",
       "      <td>1</td>\n",
       "      <td>0</td>\n",
       "      <td>0</td>\n",
       "      <td>0</td>\n",
       "      <td>1</td>\n",
       "    </tr>\n",
       "    <tr>\n",
       "      <th>2</th>\n",
       "      <td>US</td>\n",
       "      <td>28</td>\n",
       "      <td>1</td>\n",
       "      <td>Seo</td>\n",
       "      <td>4</td>\n",
       "      <td>0</td>\n",
       "      <td>0</td>\n",
       "      <td>0</td>\n",
       "      <td>1</td>\n",
       "      <td>0</td>\n",
       "      <td>0</td>\n",
       "      <td>0</td>\n",
       "      <td>1</td>\n",
       "    </tr>\n",
       "    <tr>\n",
       "      <th>3</th>\n",
       "      <td>China</td>\n",
       "      <td>39</td>\n",
       "      <td>1</td>\n",
       "      <td>Seo</td>\n",
       "      <td>5</td>\n",
       "      <td>0</td>\n",
       "      <td>0</td>\n",
       "      <td>0</td>\n",
       "      <td>1</td>\n",
       "      <td>1</td>\n",
       "      <td>0</td>\n",
       "      <td>0</td>\n",
       "      <td>0</td>\n",
       "    </tr>\n",
       "    <tr>\n",
       "      <th>4</th>\n",
       "      <td>US</td>\n",
       "      <td>30</td>\n",
       "      <td>1</td>\n",
       "      <td>Seo</td>\n",
       "      <td>6</td>\n",
       "      <td>0</td>\n",
       "      <td>0</td>\n",
       "      <td>0</td>\n",
       "      <td>1</td>\n",
       "      <td>0</td>\n",
       "      <td>0</td>\n",
       "      <td>0</td>\n",
       "      <td>1</td>\n",
       "    </tr>\n",
       "  </tbody>\n",
       "</table>\n",
       "</div>"
      ],
      "text/plain": [
       "  country  age  new_user source  total_pages_visited  converted  Ads  Direct  \\\n",
       "0      UK   25         1    Ads                    1          0    1       0   \n",
       "1      US   23         1    Seo                    5          0    0       0   \n",
       "2      US   28         1    Seo                    4          0    0       0   \n",
       "3   China   39         1    Seo                    5          0    0       0   \n",
       "4      US   30         1    Seo                    6          0    0       0   \n",
       "\n",
       "   Seo  China  Germany  UK  US  \n",
       "0    0      0        0   1   0  \n",
       "1    1      0        0   0   1  \n",
       "2    1      0        0   0   1  \n",
       "3    1      1        0   0   0  \n",
       "4    1      0        0   0   1  "
      ]
     },
     "execution_count": 79,
     "metadata": {},
     "output_type": "execute_result"
    }
   ],
   "source": [
    "#One-hot encode source and country\n",
    "hot_source = pd.get_dummies(scooter['source'])\n",
    "hot_country = pd.get_dummies(scooter['country'])\n",
    "scooter_hot = pd.concat([scooter, hot_source, hot_country],axis=1)\n",
    "scooter_hot.head()"
   ]
  },
  {
   "cell_type": "code",
   "execution_count": 80,
   "metadata": {},
   "outputs": [],
   "source": [
    "#create new table with fancy new one-hot encoded features\n",
    "s_table = scooter_hot.drop(['source','country'],axis=1)"
   ]
  },
  {
   "cell_type": "code",
   "execution_count": 82,
   "metadata": {},
   "outputs": [
    {
     "data": {
      "text/html": [
       "<div>\n",
       "<style scoped>\n",
       "    .dataframe tbody tr th:only-of-type {\n",
       "        vertical-align: middle;\n",
       "    }\n",
       "\n",
       "    .dataframe tbody tr th {\n",
       "        vertical-align: top;\n",
       "    }\n",
       "\n",
       "    .dataframe thead th {\n",
       "        text-align: right;\n",
       "    }\n",
       "</style>\n",
       "<table border=\"1\" class=\"dataframe\">\n",
       "  <thead>\n",
       "    <tr style=\"text-align: right;\">\n",
       "      <th></th>\n",
       "      <th>age</th>\n",
       "      <th>new_user</th>\n",
       "      <th>total_pages_visited</th>\n",
       "      <th>converted</th>\n",
       "      <th>Ads</th>\n",
       "      <th>Direct</th>\n",
       "      <th>Seo</th>\n",
       "      <th>China</th>\n",
       "      <th>Germany</th>\n",
       "      <th>UK</th>\n",
       "      <th>US</th>\n",
       "    </tr>\n",
       "  </thead>\n",
       "  <tbody>\n",
       "    <tr>\n",
       "      <th>0</th>\n",
       "      <td>25</td>\n",
       "      <td>1</td>\n",
       "      <td>1</td>\n",
       "      <td>0</td>\n",
       "      <td>1</td>\n",
       "      <td>0</td>\n",
       "      <td>0</td>\n",
       "      <td>0</td>\n",
       "      <td>0</td>\n",
       "      <td>1</td>\n",
       "      <td>0</td>\n",
       "    </tr>\n",
       "    <tr>\n",
       "      <th>1</th>\n",
       "      <td>23</td>\n",
       "      <td>1</td>\n",
       "      <td>5</td>\n",
       "      <td>0</td>\n",
       "      <td>0</td>\n",
       "      <td>0</td>\n",
       "      <td>1</td>\n",
       "      <td>0</td>\n",
       "      <td>0</td>\n",
       "      <td>0</td>\n",
       "      <td>1</td>\n",
       "    </tr>\n",
       "    <tr>\n",
       "      <th>2</th>\n",
       "      <td>28</td>\n",
       "      <td>1</td>\n",
       "      <td>4</td>\n",
       "      <td>0</td>\n",
       "      <td>0</td>\n",
       "      <td>0</td>\n",
       "      <td>1</td>\n",
       "      <td>0</td>\n",
       "      <td>0</td>\n",
       "      <td>0</td>\n",
       "      <td>1</td>\n",
       "    </tr>\n",
       "    <tr>\n",
       "      <th>3</th>\n",
       "      <td>39</td>\n",
       "      <td>1</td>\n",
       "      <td>5</td>\n",
       "      <td>0</td>\n",
       "      <td>0</td>\n",
       "      <td>0</td>\n",
       "      <td>1</td>\n",
       "      <td>1</td>\n",
       "      <td>0</td>\n",
       "      <td>0</td>\n",
       "      <td>0</td>\n",
       "    </tr>\n",
       "    <tr>\n",
       "      <th>4</th>\n",
       "      <td>30</td>\n",
       "      <td>1</td>\n",
       "      <td>6</td>\n",
       "      <td>0</td>\n",
       "      <td>0</td>\n",
       "      <td>0</td>\n",
       "      <td>1</td>\n",
       "      <td>0</td>\n",
       "      <td>0</td>\n",
       "      <td>0</td>\n",
       "      <td>1</td>\n",
       "    </tr>\n",
       "  </tbody>\n",
       "</table>\n",
       "</div>"
      ],
      "text/plain": [
       "   age  new_user  total_pages_visited  converted  Ads  Direct  Seo  China  \\\n",
       "0   25         1                    1          0    1       0    0      0   \n",
       "1   23         1                    5          0    0       0    1      0   \n",
       "2   28         1                    4          0    0       0    1      0   \n",
       "3   39         1                    5          0    0       0    1      1   \n",
       "4   30         1                    6          0    0       0    1      0   \n",
       "\n",
       "   Germany  UK  US  \n",
       "0        0   1   0  \n",
       "1        0   0   1  \n",
       "2        0   0   1  \n",
       "3        0   0   0  \n",
       "4        0   0   1  "
      ]
     },
     "execution_count": 82,
     "metadata": {},
     "output_type": "execute_result"
    }
   ],
   "source": [
    "s_table.head()"
   ]
  },
  {
   "cell_type": "markdown",
   "metadata": {},
   "source": [
    "### Dataframe made. Time to rebalance classes\n",
    "I'm going to randomly undersample from the unconverted class, since we have so many samples to work with"
   ]
  },
  {
   "cell_type": "code",
   "execution_count": 85,
   "metadata": {},
   "outputs": [],
   "source": [
    "num_unconverted, num_converted = s_table.converted.value_counts()\n",
    "\n",
    "#Divide by class\n",
    "df_unconverted = s_table[s_table.converted==0]\n",
    "df_converted = s_table[s_table.converted==1]"
   ]
  },
  {
   "cell_type": "code",
   "execution_count": 86,
   "metadata": {},
   "outputs": [],
   "source": [
    "df_unconverted_us = df_unconverted.sample(num_converted) #sampling num_converted amount from unconverted groups\n",
    "s_table_us = pd.concat([df_unconverted_us, df_converted], axis=0)"
   ]
  },
  {
   "cell_type": "code",
   "execution_count": 90,
   "metadata": {},
   "outputs": [
    {
     "data": {
      "text/html": [
       "<div>\n",
       "<style scoped>\n",
       "    .dataframe tbody tr th:only-of-type {\n",
       "        vertical-align: middle;\n",
       "    }\n",
       "\n",
       "    .dataframe tbody tr th {\n",
       "        vertical-align: top;\n",
       "    }\n",
       "\n",
       "    .dataframe thead th {\n",
       "        text-align: right;\n",
       "    }\n",
       "</style>\n",
       "<table border=\"1\" class=\"dataframe\">\n",
       "  <thead>\n",
       "    <tr style=\"text-align: right;\">\n",
       "      <th></th>\n",
       "      <th>age</th>\n",
       "      <th>new_user</th>\n",
       "      <th>total_pages_visited</th>\n",
       "      <th>Ads</th>\n",
       "      <th>Direct</th>\n",
       "      <th>Seo</th>\n",
       "      <th>China</th>\n",
       "      <th>Germany</th>\n",
       "      <th>UK</th>\n",
       "      <th>US</th>\n",
       "    </tr>\n",
       "    <tr>\n",
       "      <th>converted</th>\n",
       "      <th></th>\n",
       "      <th></th>\n",
       "      <th></th>\n",
       "      <th></th>\n",
       "      <th></th>\n",
       "      <th></th>\n",
       "      <th></th>\n",
       "      <th></th>\n",
       "      <th></th>\n",
       "      <th></th>\n",
       "    </tr>\n",
       "  </thead>\n",
       "  <tbody>\n",
       "    <tr>\n",
       "      <th>0</th>\n",
       "      <td>10198</td>\n",
       "      <td>10198</td>\n",
       "      <td>10198</td>\n",
       "      <td>10198</td>\n",
       "      <td>10198</td>\n",
       "      <td>10198</td>\n",
       "      <td>10198</td>\n",
       "      <td>10198</td>\n",
       "      <td>10198</td>\n",
       "      <td>10198</td>\n",
       "    </tr>\n",
       "    <tr>\n",
       "      <th>1</th>\n",
       "      <td>10198</td>\n",
       "      <td>10198</td>\n",
       "      <td>10198</td>\n",
       "      <td>10198</td>\n",
       "      <td>10198</td>\n",
       "      <td>10198</td>\n",
       "      <td>10198</td>\n",
       "      <td>10198</td>\n",
       "      <td>10198</td>\n",
       "      <td>10198</td>\n",
       "    </tr>\n",
       "  </tbody>\n",
       "</table>\n",
       "</div>"
      ],
      "text/plain": [
       "             age  new_user  total_pages_visited    Ads  Direct    Seo  China  \\\n",
       "converted                                                                      \n",
       "0          10198     10198                10198  10198   10198  10198  10198   \n",
       "1          10198     10198                10198  10198   10198  10198  10198   \n",
       "\n",
       "           Germany     UK     US  \n",
       "converted                         \n",
       "0            10198  10198  10198  \n",
       "1            10198  10198  10198  "
      ]
     },
     "execution_count": 90,
     "metadata": {},
     "output_type": "execute_result"
    }
   ],
   "source": [
    "s_table_us.groupby('converted').count() #Are the groups matched? Yes! "
   ]
  },
  {
   "cell_type": "code",
   "execution_count": 93,
   "metadata": {},
   "outputs": [
    {
     "data": {
      "text/html": [
       "<div>\n",
       "<style scoped>\n",
       "    .dataframe tbody tr th:only-of-type {\n",
       "        vertical-align: middle;\n",
       "    }\n",
       "\n",
       "    .dataframe tbody tr th {\n",
       "        vertical-align: top;\n",
       "    }\n",
       "\n",
       "    .dataframe thead th {\n",
       "        text-align: right;\n",
       "    }\n",
       "</style>\n",
       "<table border=\"1\" class=\"dataframe\">\n",
       "  <thead>\n",
       "    <tr style=\"text-align: right;\">\n",
       "      <th></th>\n",
       "      <th>age</th>\n",
       "      <th>new_user</th>\n",
       "      <th>total_pages_visited</th>\n",
       "      <th>Ads</th>\n",
       "      <th>Direct</th>\n",
       "      <th>Seo</th>\n",
       "      <th>China</th>\n",
       "      <th>Germany</th>\n",
       "      <th>UK</th>\n",
       "      <th>US</th>\n",
       "    </tr>\n",
       "  </thead>\n",
       "  <tbody>\n",
       "    <tr>\n",
       "      <th>181037</th>\n",
       "      <td>32</td>\n",
       "      <td>1</td>\n",
       "      <td>3</td>\n",
       "      <td>0</td>\n",
       "      <td>0</td>\n",
       "      <td>1</td>\n",
       "      <td>0</td>\n",
       "      <td>0</td>\n",
       "      <td>0</td>\n",
       "      <td>1</td>\n",
       "    </tr>\n",
       "    <tr>\n",
       "      <th>130686</th>\n",
       "      <td>21</td>\n",
       "      <td>0</td>\n",
       "      <td>4</td>\n",
       "      <td>0</td>\n",
       "      <td>0</td>\n",
       "      <td>1</td>\n",
       "      <td>0</td>\n",
       "      <td>1</td>\n",
       "      <td>0</td>\n",
       "      <td>0</td>\n",
       "    </tr>\n",
       "    <tr>\n",
       "      <th>203685</th>\n",
       "      <td>32</td>\n",
       "      <td>0</td>\n",
       "      <td>2</td>\n",
       "      <td>1</td>\n",
       "      <td>0</td>\n",
       "      <td>0</td>\n",
       "      <td>0</td>\n",
       "      <td>0</td>\n",
       "      <td>0</td>\n",
       "      <td>1</td>\n",
       "    </tr>\n",
       "    <tr>\n",
       "      <th>3980</th>\n",
       "      <td>19</td>\n",
       "      <td>0</td>\n",
       "      <td>2</td>\n",
       "      <td>1</td>\n",
       "      <td>0</td>\n",
       "      <td>0</td>\n",
       "      <td>1</td>\n",
       "      <td>0</td>\n",
       "      <td>0</td>\n",
       "      <td>0</td>\n",
       "    </tr>\n",
       "    <tr>\n",
       "      <th>207216</th>\n",
       "      <td>20</td>\n",
       "      <td>1</td>\n",
       "      <td>3</td>\n",
       "      <td>0</td>\n",
       "      <td>1</td>\n",
       "      <td>0</td>\n",
       "      <td>1</td>\n",
       "      <td>0</td>\n",
       "      <td>0</td>\n",
       "      <td>0</td>\n",
       "    </tr>\n",
       "  </tbody>\n",
       "</table>\n",
       "</div>"
      ],
      "text/plain": [
       "        age  new_user  total_pages_visited  Ads  Direct  Seo  China  Germany  \\\n",
       "181037   32         1                    3    0       0    1      0        0   \n",
       "130686   21         0                    4    0       0    1      0        1   \n",
       "203685   32         0                    2    1       0    0      0        0   \n",
       "3980     19         0                    2    1       0    0      1        0   \n",
       "207216   20         1                    3    0       1    0      1        0   \n",
       "\n",
       "        UK  US  \n",
       "181037   0   1  \n",
       "130686   0   0  \n",
       "203685   0   1  \n",
       "3980     0   0  \n",
       "207216   0   0  "
      ]
     },
     "execution_count": 93,
     "metadata": {},
     "output_type": "execute_result"
    }
   ],
   "source": [
    "feature_table = s_table_us.drop(['converted'],axis=1) #Hiding my outcome variable from my model\n",
    "feature_table.head()"
   ]
  },
  {
   "cell_type": "markdown",
   "metadata": {},
   "source": [
    "## Model time"
   ]
  },
  {
   "cell_type": "code",
   "execution_count": 104,
   "metadata": {},
   "outputs": [],
   "source": [
    "from sklearn.ensemble import RandomForestClassifier\n",
    "from sklearn.cross_validation import KFold, cross_val_score\n",
    "\n",
    "clf = RandomForestClassifier(n_estimators=200, n_jobs=2)\n",
    "kf=KFold(feature_table.shape[0], n_folds=5, shuffle=True)\n",
    "score = cross_val_score(clf,np.array(feature_table),np.array(s_table_us['converted']), cv=kf, n_jobs=2)\n",
    "train_idx, test_idx = next(iter(kf))"
   ]
  },
  {
   "cell_type": "code",
   "execution_count": 105,
   "metadata": {},
   "outputs": [],
   "source": [
    "clf = clf.fit(np.array(feature_table)[train_idx], s_table_us['converted'].values.astype(int)[train_idx])\n",
    "predictions = clf.predict(feature_table.values[test_idx])"
   ]
  },
  {
   "cell_type": "code",
   "execution_count": 98,
   "metadata": {},
   "outputs": [
    {
     "data": {
      "text/plain": [
       "array([0.10068825, 0.07272776, 0.75108181, 0.00262359, 0.00247511,\n",
       "       0.00269542, 0.05381179, 0.00344554, 0.00510345, 0.00534728])"
      ]
     },
     "execution_count": 98,
     "metadata": {},
     "output_type": "execute_result"
    }
   ],
   "source": [
    "clf.feature_importances_ #Shows the relative feature importances of each feature"
   ]
  },
  {
   "cell_type": "code",
   "execution_count": 99,
   "metadata": {},
   "outputs": [
    {
     "data": {
      "text/plain": [
       "Index(['age', 'new_user', 'total_pages_visited', 'Ads', 'Direct', 'Seo',\n",
       "       'China', 'Germany', 'UK', 'US'],\n",
       "      dtype='object')"
      ]
     },
     "execution_count": 99,
     "metadata": {},
     "output_type": "execute_result"
    }
   ],
   "source": [
    "feature_table.columns #Reminds me what the labels were"
   ]
  },
  {
   "cell_type": "code",
   "execution_count": 100,
   "metadata": {},
   "outputs": [
    {
     "data": {
      "text/plain": [
       "0.9242009767868904"
      ]
     },
     "execution_count": 100,
     "metadata": {},
     "output_type": "execute_result"
    }
   ],
   "source": [
    "np.mean(score) #92% accuracy overall. Now to investigate whether we trust this. "
   ]
  },
  {
   "cell_type": "code",
   "execution_count": 109,
   "metadata": {},
   "outputs": [
    {
     "data": {
      "text/plain": [
       "Text(0.5,33,'Predicted')"
      ]
     },
     "execution_count": 109,
     "metadata": {},
     "output_type": "execute_result"
    },
    {
     "data": {
      "image/png": "[encoded data removed]",
      "text/plain": [
       "<Figure size 576x432 with 2 Axes>"
      ]
     },
     "metadata": {},
     "output_type": "display_data"
    }
   ],
   "source": [
    "#Confusion matrices to make sure the model isn't labeling everything as converted\n",
    "from sklearn.metrics import confusion_matrix\n",
    "targets = s_table_us['converted']\n",
    "fig = plt.figure(None, (8,6))\n",
    "mat = confusion_matrix(targets.values[test_idx].astype(int), predictions, labels=[0,1])\n",
    "sns.heatmap(mat / np.sum(mat, axis=0), annot=True)\n",
    "plt.ylabel('Actual')\n",
    "plt.xlabel('Predicted')"
   ]
  },
  {
   "cell_type": "code",
   "execution_count": 115,
   "metadata": {},
   "outputs": [
    {
     "data": {
      "image/png": "[encoded data removed]",
      "text/plain": [
       "<Figure size 864x648 with 1 Axes>"
      ]
     },
     "metadata": {},
     "output_type": "display_data"
    }
   ],
   "source": [
    "#Plot of relative feature importance\n",
    "x = feature_table\n",
    "y = targets\n",
    "\n",
    "importances = clf.feature_importances_\n",
    "std = np.std([tree.feature_importances_ for tree in clf.estimators_], axis=0)\n",
    "indices = np.argsort(importances)[::-1]\n",
    "\n",
    "feat_importances = []\n",
    "for f in range(x.shape[1]):\n",
    "    feat_importances.append(importances[indices[f]])\n",
    "\n",
    "indices_for_label = feature_table.columns\n",
    "\n",
    "plt.figure(figsize=(12,9))\n",
    "plt.bar(range(x.shape[1]),importances[indices], yerr=std[indices])\n",
    "plt.xticks(range(x.shape[1]), indices_for_label, rotation = 45)\n",
    "plt.show()"
   ]
  },
  {
   "cell_type": "markdown",
   "metadata": {},
   "source": [
    "# Conclusions and Insights\n",
    "\n",
    "We can predict scooter conversion rate, and the DS team is ready to make some recommendations to both the Product and Marketing teams. Once we settle on approaches to focus on, I'll gladly set up experiments with appropriate holdout groups so that we can know with reasonable confidence whether our proposed changes have positive effects, and whether they're worth the cost of deploying/maintaining.\n",
    "\n",
    "### Marketing: \n",
    "Ads *may* be an important marketing channel that converts customers, because ads contribute more to conversion than either direct outreach or search optimization. We should investigate who our ads are reaching and experiment on the best way to expand/double down on our efforts. \n",
    "\n",
    "Age is an overwhelmingly important feature that predicts conversion, far more than any of our marketing methods. Younger demographics have a higher conversion probability than older demographics, so we could consider advertising media that preferentially reach younger audiences. \n",
    "\n",
    "Another predictor is whether the user already had an account before they came to the site this session. We should investigate what this feature means a bit more, but testing out a targeted marketing campaign focused on getting users back to the site could increase overall conversions.\n",
    "\n",
    "### Product: \n",
    "New User Status and website engagement are two features that the product team should pay attention to. \n",
    "\n",
    "New users don't convert at nearly the rate as returning users, so a quick sanity check on the funnel from account creation --> conversion would be smart. Is it straightforward to get from creating the account to getting started with scooters? Is it a quick and easy process so that users can create an account on the go, when they might be most in need of a scooter? \n",
    "\n",
    "Total pages visited is another important feature of conversion - people who visited the site but didn't convert visited 4.5 pages on average compared to 14.5 pages on average for people who did convert. This could be correlated with any potential issues or friction in the account creation --> conversion funnel. We should experiment with ways of making our site more engaging and informative, and keep people engaged! Maybe there's other cool content we could play with adding, like data stories based on our ride data or features on some of our riders! \n"
   ]
  },
  {
   "cell_type": "markdown",
   "metadata": {},
   "source": [
    "# Marketing Methodoloty Experiment"
   ]
  },
  {
   "cell_type": "markdown",
   "metadata": {},
   "source": [
    "The fact that both marketing methods have a statistically significant effect on conversion rate is great news! Even though we can confidently state that both conversion rates are significantly higher than no intervention, given just the information you shared with me, we don't have sufficient evidence and therefore CANNOT claim that the two marketing methodologies are statistically significantly different from each other. If we could look at the data underlying these two experiments, we should be able to directly compare the two methodologies and test them directly against one another, as long as both experiments were run concurrently and there was clear and distinct separation between the two treatment groups (i.e. the groups that saw marketing campaigns). "
   ]
  },
  {
   "cell_type": "code",
   "execution_count": null,
   "metadata": {},
   "outputs": [],
   "source": []
  }
 ],
 "metadata": {
  "kernelspec": {
   "display_name": "Python 3",
   "language": "python",
   "name": "python3"
  },
  "language_info": {
   "codemirror_mode": {
    "name": "ipython",
    "version": 3
   },
   "file_extension": ".py",
   "mimetype": "text/x-python",
   "name": "python",
   "nbconvert_exporter": "python",
   "pygments_lexer": "ipython3",
   "version": "3.5.5"
  }
 },
 "nbformat": 4,
 "nbformat_minor": 2
}
